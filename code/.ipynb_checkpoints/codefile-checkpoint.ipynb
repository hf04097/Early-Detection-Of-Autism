{
 "cells": [
  {
   "cell_type": "code",
   "execution_count": 126,
   "metadata": {},
   "outputs": [],
   "source": [
    "import pandas as pd\n",
    "import sklearn\n",
    "from sklearn import model_selection\n",
    "\n",
    "from sklearn.naive_bayes import GaussianNB #gaussian naive Bayes classifier\n",
    "from sklearn.tree import DecisionTreeClassifier \n",
    "from sklearn.discriminant_analysis import LinearDiscriminantAnalysis\n",
    "from sklearn.ensemble import RandomForestClassifier\n",
    "from sklearn.naive_bayes import MultinomialNB\n",
    "from sklearn.naive_bayes import ComplementNB\n",
    "from sklearn.naive_bayes import BernoulliNB\n",
    "\n",
    "from sklearn import tree\n",
    "\n",
    "from sklearn.metrics import accuracy_score #calculating accuracy"
   ]
  },
  {
   "cell_type": "code",
   "execution_count": 127,
   "metadata": {},
   "outputs": [],
   "source": [
    "def preprocess(file,size_of_test):\n",
    "    # read the csv\n",
    "    data = pd.read_table(file, sep=',', index_col=None)\n",
    "\n",
    "#     print('Shape of DataFrame: {}'.format(data.shape))\n",
    "    \n",
    "    # drop unwanted columns\n",
    "    data = data.drop(['Qchat-10-Score','Ethnicity'], axis=1)\n",
    "\n",
    "    # create X and Y datasets for training\n",
    "    x = data.drop(['Class/ASD Traits '],1)\n",
    "    y = data['Class/ASD Traits ']\n",
    "    \n",
    "    # convert the data to categorical values\n",
    "    X = pd.get_dummies(x)\n",
    "    Y = y\n",
    "    \n",
    "    X_train, X_test, Y_train, Y_test = model_selection.train_test_split(X, Y, test_size=size_of_test)\n",
    "#     print(X_train.loc[:1])\n",
    "    print(X_train.shape)\n",
    "    print(X_test.shape)\n",
    "    print(Y_train.shape)\n",
    "    print(Y_test.shape)\n",
    "    return X_train, X_test, Y_train, Y_test"
   ]
  },
  {
   "cell_type": "code",
   "execution_count": 128,
   "metadata": {},
   "outputs": [],
   "source": [
    "def learn_model(data,target):\n",
    "    gNB = GaussianNB()\n",
    "    dtc = DecisionTreeClassifier()\n",
    "    lda = LinearDiscriminantAnalysis()\n",
    "    rfr = RandomForestClassifier(max_depth=50, n_estimators=150, max_features=1)\n",
    "    multi = MultinomialNB()\n",
    "    comp = ComplementNB()\n",
    "    bern = BernoulliNB()\n",
    "    gnb_classifier = gNB.fit(data,target)\n",
    "    dtc_classifier = dtc.fit(data,target)\n",
    "    lda_classifier = lda.fit(data,target)\n",
    "    rfr_classifier = rfr.fit(data,target)\n",
    "    multi_classifier = multi.fit(data,target)\n",
    "    comp_classifier = comp.fit(data,target)\n",
    "    bern_classifier = bern.fit(data,target)\n",
    "    return gnb_classifier, dtc_classifier, lda_classifier, rfr_classifier,multi_classifier,comp_classifier,bern_classifier"
   ]
  },
  {
   "cell_type": "code",
   "execution_count": 129,
   "metadata": {},
   "outputs": [],
   "source": [
    "def classify(classifier, testdata):\n",
    "    gnb_classifier = classifier[0]\n",
    "    dtc_classifier = classifier[1]\n",
    "    lda_classifier = classifier[2]\n",
    "    rfr_classifier = classifier[3]\n",
    "    multi_classifier = classifier[4]\n",
    "    comp_classifier = classifier[5]\n",
    "    bern_classifier = classifier[6]\n",
    "    \n",
    "    predicted_val_gnB = gnb_classifier.predict(testdata)\n",
    "    predicted_val_dtc = dtc_classifier.predict(testdata)\n",
    "    predicted_val_lda = lda_classifier.predict(testdata)\n",
    "    predicted_val_rfr = rfr_classifier.predict(testdata)\n",
    "    predicted_val_multi= multi_classifier.predict(testdata)\n",
    "    predicted_val_comp = comp_classifier.predict(testdata)\n",
    "    predicted_val_bern = bern_classifier.predict(testdata)\n",
    "    \n",
    "    return predicted_val_gnB, predicted_val_dtc, predicted_val_lda, predicted_val_rfr, predicted_val_multi,predicted_val_comp,predicted_val_bern"
   ]
  },
  {
   "cell_type": "code",
   "execution_count": 130,
   "metadata": {},
   "outputs": [],
   "source": [
    "def evaluate(actual_class, predicted_class):\n",
    "    predicted_class_gnB = predicted_class[0]\n",
    "    predicted_class_dtc = predicted_class[1]\n",
    "    predicted_class_lda = predicted_class[2]\n",
    "    predicted_class_rfr = predicted_class[3]\n",
    "    predicted_class_multi = predicted_class[4]\n",
    "    predicted_class_comp = predicted_class[5]\n",
    "    predicted_class_bern = predicted_class[6]\n",
    "    \n",
    "    accuracy_gnB = accuracy_score(actual_class, predicted_class_gnB)\n",
    "    accuracy_dtc = accuracy_score(actual_class, predicted_class_dtc)\n",
    "    accuracy_lda = accuracy_score(actual_class, predicted_class_lda)\n",
    "    accuracy_rfr = accuracy_score(actual_class, predicted_class_rfr)\n",
    "    accuracy_multi = accuracy_score(actual_class, predicted_class_multi)\n",
    "    accuracy_comp = accuracy_score(actual_class, predicted_class_comp)\n",
    "    accuracy_bern = accuracy_score(actual_class, predicted_class_bern)\n",
    "    \n",
    "    print(\"The accuracy score of Gaussian Naive Bayes is :\",accuracy_gnB)\n",
    "    print(\"The accuracy score of Decision Tree Classifier is :\",accuracy_dtc)\n",
    "    print(\"The accuracy score of Linear Discriminant Analysis is :\",accuracy_lda)\n",
    "    print(\"The accuracy score of Random Forest Classifier is :\",accuracy_rfr)\n",
    "    print(\"The accuracy score of Multinomial Naive Bayes is :\",accuracy_multi)\n",
    "    print(\"The accuracy score of Complement Naive Bayes is :\",accuracy_comp)\n",
    "    print(\"The accuracy score of Bernoulli Naive Bayes is :\",accuracy_bern)"
   ]
  },
  {
   "cell_type": "code",
   "execution_count": 131,
   "metadata": {},
   "outputs": [
    {
     "name": "stdout",
     "output_type": "stream",
     "text": [
      "preprocessing data.....\n",
      "(843, 23)\n",
      "(211, 23)\n",
      "(843,)\n",
      "(211,)\n"
     ]
    }
   ],
   "source": [
    "print(\"preprocessing data.....\")\n",
    "data = preprocess('../dataset/Toddler Autism dataset July 2018.csv',0.2)\n",
    "trainingX = data[0]\n",
    "testX =  data[1]\n",
    "trainingY = data[2]\n",
    "testY = data[3]"
   ]
  },
  {
   "cell_type": "code",
   "execution_count": 132,
   "metadata": {},
   "outputs": [
    {
     "name": "stdout",
     "output_type": "stream",
     "text": [
      "Learning model.....\n"
     ]
    },
    {
     "name": "stderr",
     "output_type": "stream",
     "text": [
      "C:\\Users\\Huda\\Anaconda3\\lib\\site-packages\\sklearn\\discriminant_analysis.py:388: UserWarning: Variables are collinear.\n",
      "  warnings.warn(\"Variables are collinear.\")\n"
     ]
    }
   ],
   "source": [
    "print(\"Learning model.....\")\n",
    "model = learn_model(trainingX,trainingY)"
   ]
  },
  {
   "cell_type": "code",
   "execution_count": 133,
   "metadata": {},
   "outputs": [
    {
     "name": "stdout",
     "output_type": "stream",
     "text": [
      "Classifying test data......\n"
     ]
    }
   ],
   "source": [
    "print(\"Classifying test data......\")      \n",
    "predictedY = classify(model, testX)"
   ]
  },
  {
   "cell_type": "code",
   "execution_count": 134,
   "metadata": {},
   "outputs": [
    {
     "name": "stdout",
     "output_type": "stream",
     "text": [
      "Evaluating results.....\n",
      "The accuracy score of Gaussian Naive Bayes is : 0.933649289099526\n",
      "The accuracy score of Decision Tree Classifier is : 0.9383886255924171\n",
      "The accuracy score of Linear Discriminant Analysis is : 0.943127962085308\n",
      "The accuracy score of Random Forest Classifier is : 0.9620853080568721\n",
      "The accuracy score of Multinomial Naive Bayes is : 0.933649289099526\n",
      "The accuracy score of Complement Naive Bayes is : 0.9241706161137441\n",
      "The accuracy score of Bernoulli Naive Bayes is : 0.9620853080568721\n"
     ]
    }
   ],
   "source": [
    "print(\"Evaluating results.....\")\n",
    "evaluate(testY,predictedY)"
   ]
  },
  {
   "cell_type": "code",
   "execution_count": null,
   "metadata": {},
   "outputs": [],
   "source": []
  }
 ],
 "metadata": {
  "kernelspec": {
   "display_name": "Python 3",
   "language": "python",
   "name": "python3"
  },
  "language_info": {
   "codemirror_mode": {
    "name": "ipython",
    "version": 3
   },
   "file_extension": ".py",
   "mimetype": "text/x-python",
   "name": "python",
   "nbconvert_exporter": "python",
   "pygments_lexer": "ipython3",
   "version": "3.7.4"
  }
 },
 "nbformat": 4,
 "nbformat_minor": 2
}
