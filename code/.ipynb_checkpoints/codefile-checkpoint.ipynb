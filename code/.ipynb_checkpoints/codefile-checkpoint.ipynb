{
 "cells": [
  {
   "cell_type": "code",
   "execution_count": 54,
   "metadata": {},
   "outputs": [],
   "source": [
    "import pandas as pd\n",
    "import sklearn\n",
    "from sklearn import model_selection\n",
    "from IPython.display import Image  \n",
    "from sklearn import tree\n",
    "import pydotplus\n",
    "from sklearn.naive_bayes import GaussianNB #gaussian naive Bayes classifier\n",
    "from sklearn.tree import DecisionTreeClassifier \n",
    "from sklearn.discriminant_analysis import LinearDiscriminantAnalysis\n",
    "from sklearn.ensemble import RandomForestClassifier\n",
    "from sklearn.naive_bayes import MultinomialNB\n",
    "from sklearn.naive_bayes import ComplementNB\n",
    "from sklearn.naive_bayes import BernoulliNB\n",
    "\n",
    "from sklearn.metrics import accuracy_score #calculating accuracy"
   ]
  },
  {
   "cell_type": "code",
   "execution_count": 94,
   "metadata": {},
   "outputs": [],
   "source": [
    "def preprocess(file,size_of_test):\n",
    "    # read the csv\n",
    "    data = pd.read_table(file, sep=',', index_col=None)\n",
    "\n",
    "#     print('Shape of DataFrame: {}'.format(data.shape))\n",
    "    \n",
    "    \n",
    "    # drop unwanted columns\n",
    "    data = data.drop(['Qchat-10-Score','Ethnicity'], axis=1)\n",
    "\n",
    "    # create X and Y datasets for training\n",
    "    x = data.drop(['Class/ASD Traits '],1)\n",
    "    y = data['Class/ASD Traits ']\n",
    "    \n",
    "    # convert the data to categorical values\n",
    "    X = pd.get_dummies(x)\n",
    "    Y = y\n",
    "    column_names = list(X.columns) \n",
    "    \n",
    "    X_train, X_test, Y_train, Y_test = model_selection.train_test_split(X, Y, test_size=size_of_test)\n",
    "#     print(X_train.loc[:1])\n",
    "    print(X_train.shape)\n",
    "    print(X_test.shape)\n",
    "    print(Y_train.shape)\n",
    "    print(Y_test.shape)\n",
    "    return X_train, X_test, Y_train, Y_test, column_names"
   ]
  },
  {
   "cell_type": "code",
   "execution_count": 95,
   "metadata": {},
   "outputs": [],
   "source": [
    "def learn_model(data,target):\n",
    "    gNB = GaussianNB()\n",
    "    dtc = DecisionTreeClassifier()\n",
    "    lda = LinearDiscriminantAnalysis()\n",
    "    rfr = RandomForestClassifier(max_depth=50, n_estimators=150, max_features=1)\n",
    "    multi = MultinomialNB()\n",
    "    comp = ComplementNB()\n",
    "    bern = BernoulliNB()\n",
    "    \n",
    "    gnb_classifier = gNB.fit(data,target)\n",
    "    dtc_classifier = dtc.fit(data,target)\n",
    "    lda_classifier = lda.fit(data,target)\n",
    "    rfr_classifier = rfr.fit(data,target)\n",
    "    multi_classifier = multi.fit(data,target)\n",
    "    comp_classifier = comp.fit(data,target)\n",
    "    bern_classifier = bern.fit(data,target)\n",
    "    return gnb_classifier, dtc_classifier, lda_classifier, rfr_classifier,multi_classifier,comp_classifier,bern_classifier"
   ]
  },
  {
   "cell_type": "code",
   "execution_count": 7,
   "metadata": {},
   "outputs": [],
   "source": [
    "def classify(classifier, testdata):\n",
    "    gnb_classifier = classifier[0]\n",
    "    dtc_classifier = classifier[1]\n",
    "    lda_classifier = classifier[2]\n",
    "    rfr_classifier = classifier[3]\n",
    "    multi_classifier = classifier[4]\n",
    "    comp_classifier = classifier[5]\n",
    "    bern_classifier = classifier[6]\n",
    "    \n",
    "    predicted_val_gnB = gnb_classifier.predict(testdata)\n",
    "    predicted_val_dtc = dtc_classifier.predict(testdata)\n",
    "    predicted_val_lda = lda_classifier.predict(testdata)\n",
    "    predicted_val_rfr = rfr_classifier.predict(testdata)\n",
    "    predicted_val_multi= multi_classifier.predict(testdata)\n",
    "    predicted_val_comp = comp_classifier.predict(testdata)\n",
    "    predicted_val_bern = bern_classifier.predict(testdata)\n",
    "    \n",
    "    return predicted_val_gnB, predicted_val_dtc, predicted_val_lda, predicted_val_rfr"
   ]
  },
  {
   "cell_type": "code",
   "execution_count": 8,
   "metadata": {},
   "outputs": [],
   "source": [
    "def evaluate(actual_class, predicted_class):\n",
    "    predicted_class_gnB = predicted_class[0]\n",
    "    predicted_class_dtc = predicted_class[1]\n",
    "    predicted_class_lda = predicted_class[2]\n",
    "    predicted_class_rfr = predicted_class[3]\n",
    "    \n",
    "    accuracy_gnB = accuracy_score(actual_class, predicted_class_gnB)\n",
    "    accuracy_dtc = accuracy_score(actual_class, predicted_class_dtc)\n",
    "    accuracy_lda = accuracy_score(actual_class, predicted_class_lda)\n",
    "    accuracy_rfr = accuracy_score(actual_class, predicted_class_rfr)\n",
    "    \n",
    "    print(\"The accuracy score of Gaussian Naive Bayes is :\",accuracy_gnB)\n",
    "    print(\"The accuracy score of Decision Tree Classifier is :\",accuracy_dtc)\n",
    "    print(\"The accuracy score of Linear Discriminant Analysis is :\",accuracy_lda)\n",
    "    print(\"The accuracy score of Random Forest Classifier is :\",accuracy_rfr)"
   ]
  },
  {
   "cell_type": "code",
   "execution_count": 96,
   "metadata": {},
   "outputs": [],
   "source": [
    "def DTS(data,target,names_of_features):\n",
    "    dt = DecisionTreeClassifier()\n",
    "\n",
    "    # Train model\n",
    "    dt.fit(data, target)\n",
    "    dotfile = open(\"dt.dot\", 'w')\n",
    "    dot_data = tree.export_graphviz(dt, out_file=dotfile, feature_names = names_of_features,class_names = ['Class/ASD Traits '] )\n",
    "    \n",
    "    graph = pydotplus.graph_from_dot_data(dot_data)\n",
    "    Image(graph.create_png())\n",
    "    \n",
    "    dotfile.close()"
   ]
  },
  {
   "cell_type": "code",
   "execution_count": 97,
   "metadata": {},
   "outputs": [
    {
     "name": "stdout",
     "output_type": "stream",
     "text": [
      "preprocessing data.....\n",
      "(843, 23)\n",
      "(211, 23)\n",
      "(843,)\n",
      "(211,)\n",
      "22\n"
     ]
    }
   ],
   "source": [
    "print(\"preprocessing data.....\")\n",
    "data = preprocess('../dataset/Toddler Autism dataset July 2018.csv',0.2)\n",
    "trainingX = data[0]\n",
    "testX =  data[1]\n",
    "trainingY = data[2]\n",
    "testY = data[3]\n",
    "feature_names = data[4]\n",
    "print(len(feature_names))\n"
   ]
  },
  {
   "cell_type": "code",
   "execution_count": 98,
   "metadata": {},
   "outputs": [
    {
     "name": "stdout",
     "output_type": "stream",
     "text": [
      "making DTS...\n"
     ]
    },
    {
     "ename": "ValueError",
     "evalue": "Length of feature_names, 22 does not match number of features, 23",
     "output_type": "error",
     "traceback": [
      "\u001b[1;31m---------------------------------------------------------------------------\u001b[0m",
      "\u001b[1;31mValueError\u001b[0m                                Traceback (most recent call last)",
      "\u001b[1;32m<ipython-input-98-c03c64f7c96a>\u001b[0m in \u001b[0;36m<module>\u001b[1;34m\u001b[0m\n\u001b[0;32m      1\u001b[0m \u001b[0mprint\u001b[0m\u001b[1;33m(\u001b[0m\u001b[1;34m\"making DTS...\"\u001b[0m\u001b[1;33m)\u001b[0m\u001b[1;33m\u001b[0m\u001b[1;33m\u001b[0m\u001b[0m\n\u001b[1;32m----> 2\u001b[1;33m \u001b[0mDecisonTree\u001b[0m \u001b[1;33m=\u001b[0m \u001b[0mDTS\u001b[0m\u001b[1;33m(\u001b[0m\u001b[0mtrainingX\u001b[0m\u001b[1;33m,\u001b[0m\u001b[0mtrainingY\u001b[0m\u001b[1;33m,\u001b[0m\u001b[0mfeature_names\u001b[0m\u001b[1;33m)\u001b[0m\u001b[1;33m\u001b[0m\u001b[1;33m\u001b[0m\u001b[0m\n\u001b[0m",
      "\u001b[1;32m<ipython-input-96-0fe9c482a615>\u001b[0m in \u001b[0;36mDTS\u001b[1;34m(data, target, names_of_features)\u001b[0m\n\u001b[0;32m      5\u001b[0m     \u001b[0mdt\u001b[0m\u001b[1;33m.\u001b[0m\u001b[0mfit\u001b[0m\u001b[1;33m(\u001b[0m\u001b[0mdata\u001b[0m\u001b[1;33m,\u001b[0m \u001b[0mtarget\u001b[0m\u001b[1;33m)\u001b[0m\u001b[1;33m\u001b[0m\u001b[1;33m\u001b[0m\u001b[0m\n\u001b[0;32m      6\u001b[0m     \u001b[0mdotfile\u001b[0m \u001b[1;33m=\u001b[0m \u001b[0mopen\u001b[0m\u001b[1;33m(\u001b[0m\u001b[1;34m\"dt.dot\"\u001b[0m\u001b[1;33m,\u001b[0m \u001b[1;34m'w'\u001b[0m\u001b[1;33m)\u001b[0m\u001b[1;33m\u001b[0m\u001b[1;33m\u001b[0m\u001b[0m\n\u001b[1;32m----> 7\u001b[1;33m     \u001b[0mdot_data\u001b[0m \u001b[1;33m=\u001b[0m \u001b[0mtree\u001b[0m\u001b[1;33m.\u001b[0m\u001b[0mexport_graphviz\u001b[0m\u001b[1;33m(\u001b[0m\u001b[0mdt\u001b[0m\u001b[1;33m,\u001b[0m \u001b[0mout_file\u001b[0m\u001b[1;33m=\u001b[0m\u001b[0mdotfile\u001b[0m\u001b[1;33m,\u001b[0m \u001b[0mfeature_names\u001b[0m \u001b[1;33m=\u001b[0m \u001b[0mnames_of_features\u001b[0m\u001b[1;33m,\u001b[0m\u001b[0mclass_names\u001b[0m \u001b[1;33m=\u001b[0m \u001b[1;33m[\u001b[0m\u001b[1;34m'Class/ASD Traits '\u001b[0m\u001b[1;33m]\u001b[0m \u001b[1;33m)\u001b[0m\u001b[1;33m\u001b[0m\u001b[1;33m\u001b[0m\u001b[0m\n\u001b[0m\u001b[0;32m      8\u001b[0m \u001b[1;33m\u001b[0m\u001b[0m\n\u001b[0;32m      9\u001b[0m     \u001b[0mgraph\u001b[0m \u001b[1;33m=\u001b[0m \u001b[0mpydotplus\u001b[0m\u001b[1;33m.\u001b[0m\u001b[0mgraph_from_dot_data\u001b[0m\u001b[1;33m(\u001b[0m\u001b[0mdot_data\u001b[0m\u001b[1;33m)\u001b[0m\u001b[1;33m\u001b[0m\u001b[1;33m\u001b[0m\u001b[0m\n",
      "\u001b[1;32mC:\\ProgramData\\Anaconda3\\lib\\site-packages\\sklearn\\tree\\export.py\u001b[0m in \u001b[0;36mexport_graphviz\u001b[1;34m(decision_tree, out_file, max_depth, feature_names, class_names, label, filled, leaves_parallel, impurity, node_ids, proportion, rotate, rounded, special_characters, precision)\u001b[0m\n\u001b[0;32m    774\u001b[0m             \u001b[0mrounded\u001b[0m\u001b[1;33m=\u001b[0m\u001b[0mrounded\u001b[0m\u001b[1;33m,\u001b[0m \u001b[0mspecial_characters\u001b[0m\u001b[1;33m=\u001b[0m\u001b[0mspecial_characters\u001b[0m\u001b[1;33m,\u001b[0m\u001b[1;33m\u001b[0m\u001b[1;33m\u001b[0m\u001b[0m\n\u001b[0;32m    775\u001b[0m             precision=precision)\n\u001b[1;32m--> 776\u001b[1;33m         \u001b[0mexporter\u001b[0m\u001b[1;33m.\u001b[0m\u001b[0mexport\u001b[0m\u001b[1;33m(\u001b[0m\u001b[0mdecision_tree\u001b[0m\u001b[1;33m)\u001b[0m\u001b[1;33m\u001b[0m\u001b[1;33m\u001b[0m\u001b[0m\n\u001b[0m\u001b[0;32m    777\u001b[0m \u001b[1;33m\u001b[0m\u001b[0m\n\u001b[0;32m    778\u001b[0m         \u001b[1;32mif\u001b[0m \u001b[0mreturn_string\u001b[0m\u001b[1;33m:\u001b[0m\u001b[1;33m\u001b[0m\u001b[1;33m\u001b[0m\u001b[0m\n",
      "\u001b[1;32mC:\\ProgramData\\Anaconda3\\lib\\site-packages\\sklearn\\tree\\export.py\u001b[0m in \u001b[0;36mexport\u001b[1;34m(self, decision_tree)\u001b[0m\n\u001b[0;32m    399\u001b[0m                                  \u001b[1;34m\"does not match number of features, %d\"\u001b[0m\u001b[1;33m\u001b[0m\u001b[1;33m\u001b[0m\u001b[0m\n\u001b[0;32m    400\u001b[0m                                  % (len(self.feature_names),\n\u001b[1;32m--> 401\u001b[1;33m                                     decision_tree.n_features_))\n\u001b[0m\u001b[0;32m    402\u001b[0m         \u001b[1;31m# each part writes to out_file\u001b[0m\u001b[1;33m\u001b[0m\u001b[1;33m\u001b[0m\u001b[1;33m\u001b[0m\u001b[0m\n\u001b[0;32m    403\u001b[0m         \u001b[0mself\u001b[0m\u001b[1;33m.\u001b[0m\u001b[0mhead\u001b[0m\u001b[1;33m(\u001b[0m\u001b[1;33m)\u001b[0m\u001b[1;33m\u001b[0m\u001b[1;33m\u001b[0m\u001b[0m\n",
      "\u001b[1;31mValueError\u001b[0m: Length of feature_names, 22 does not match number of features, 23"
     ]
    }
   ],
   "source": [
    "print(\"making DTS...\")\n",
    "DecisonTree = DTS(trainingX,trainingY,feature_names)"
   ]
  },
  {
   "cell_type": "code",
   "execution_count": 10,
   "metadata": {},
   "outputs": [
    {
     "name": "stdout",
     "output_type": "stream",
     "text": [
      "Learning model.....\n"
     ]
    },
    {
     "name": "stderr",
     "output_type": "stream",
     "text": [
      "C:\\ProgramData\\Anaconda3\\lib\\site-packages\\sklearn\\discriminant_analysis.py:388: UserWarning: Variables are collinear.\n",
      "  warnings.warn(\"Variables are collinear.\")\n"
     ]
    }
   ],
   "source": [
    "print(\"Learning model.....\")\n",
    "model = learn_model(trainingX,trainingY)"
   ]
  },
  {
   "cell_type": "code",
   "execution_count": null,
   "metadata": {},
   "outputs": [],
   "source": [
    "print(\"Classifying test data......\")      \n",
    "predictedY = classify(model, testX)"
   ]
  },
  {
   "cell_type": "code",
   "execution_count": null,
   "metadata": {},
   "outputs": [],
   "source": [
    "print(\"Evaluating results.....\")\n",
    "evaluate(testY,predictedY)"
   ]
  },
  {
   "cell_type": "code",
   "execution_count": null,
   "metadata": {},
   "outputs": [],
   "source": []
  },
  {
   "cell_type": "code",
   "execution_count": null,
   "metadata": {},
   "outputs": [],
   "source": []
  }
 ],
 "metadata": {
  "kernelspec": {
   "display_name": "Python 3",
   "language": "python",
   "name": "python3"
  },
  "language_info": {
   "codemirror_mode": {
    "name": "ipython",
    "version": 3
   },
   "file_extension": ".py",
   "mimetype": "text/x-python",
   "name": "python",
   "nbconvert_exporter": "python",
   "pygments_lexer": "ipython3",
   "version": "3.7.5"
  }
 },
 "nbformat": 4,
 "nbformat_minor": 2
}
