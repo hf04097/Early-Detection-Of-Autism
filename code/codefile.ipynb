{
 "cells": [
  {
   "cell_type": "code",
   "execution_count": 5,
   "metadata": {},
   "outputs": [],
   "source": [
    "import pandas as pd\n",
    "import sklearn\n",
    "from sklearn import model_selection\n",
    "from IPython.display import Image  \n",
    "from sklearn import tree\n",
    "import pydotplus\n",
    "from sklearn.naive_bayes import GaussianNB #gaussian naive Bayes classifier\n",
    "from sklearn.tree import DecisionTreeClassifier \n",
    "from sklearn.discriminant_analysis import LinearDiscriminantAnalysis\n",
    "from sklearn.ensemble import RandomForestClassifier\n",
    "from sklearn.naive_bayes import MultinomialNB\n",
    "from sklearn.naive_bayes import ComplementNB\n",
    "from sklearn.naive_bayes import BernoulliNB\n",
    "\n",
    "from sklearn.metrics import accuracy_score #calculating accuracy"
   ]
  },
  {
   "cell_type": "code",
   "execution_count": 6,
   "metadata": {},
   "outputs": [],
   "source": [
    "def preprocess(file,size_of_test):\n",
    "    # read the csv\n",
    "    data = pd.read_table(file, sep=',', index_col=None)\n",
    "\n",
    "#     print('Shape of DataFrame: {}'.format(data.shape))\n",
    "    \n",
    "    \n",
    "    # drop unwanted columns\n",
    "    data = data.drop(['Qchat-10-Score','Ethnicity'], axis=1)\n",
    "\n",
    "    # create X and Y datasets for training\n",
    "    x = data.drop(['Class/ASD Traits '],1)\n",
    "    y = data['Class/ASD Traits ']\n",
    "    \n",
    "    # convert the data to categorical values\n",
    "    X = pd.get_dummies(x)\n",
    "    Y = y\n",
    "    column_names = list(X.columns) \n",
    "    \n",
    "    X_train, X_test, Y_train, Y_test = model_selection.train_test_split(X, Y, test_size=size_of_test)\n",
    "#     print(X_train.loc[:1])\n",
    "    print(X_train.shape)\n",
    "    print(X_test.shape)\n",
    "    print(Y_train.shape)\n",
    "    print(Y_test.shape)\n",
    "    return X_train, X_test, Y_train, Y_test, column_names"
   ]
  },
  {
   "cell_type": "code",
   "execution_count": 7,
   "metadata": {},
   "outputs": [],
   "source": [
    "def learn_model(data,target):\n",
    "    gNB = GaussianNB()\n",
    "    dtc = DecisionTreeClassifier()\n",
    "    lda = LinearDiscriminantAnalysis()\n",
    "    rfr = RandomForestClassifier(max_depth=50, n_estimators=150, max_features=1)\n",
    "    multi = MultinomialNB()\n",
    "    comp = ComplementNB()\n",
    "    bern = BernoulliNB()\n",
    "    \n",
    "    gnb_classifier = gNB.fit(data,target)\n",
    "    dtc_classifier = dtc.fit(data,target)\n",
    "    lda_classifier = lda.fit(data,target)\n",
    "    rfr_classifier = rfr.fit(data,target)\n",
    "    multi_classifier = multi.fit(data,target)\n",
    "    comp_classifier = comp.fit(data,target)\n",
    "    bern_classifier = bern.fit(data,target)\n",
    "    return gnb_classifier, dtc_classifier, lda_classifier, rfr_classifier,multi_classifier,comp_classifier,bern_classifier"
   ]
  },
  {
   "cell_type": "code",
   "execution_count": 8,
   "metadata": {},
   "outputs": [],
   "source": [
    "def classify(classifier, testdata):\n",
    "    gnb_classifier = classifier[0]\n",
    "    dtc_classifier = classifier[1]\n",
    "    lda_classifier = classifier[2]\n",
    "    rfr_classifier = classifier[3]\n",
    "    multi_classifier = classifier[4]\n",
    "    comp_classifier = classifier[5]\n",
    "    bern_classifier = classifier[6]\n",
    "    \n",
    "    predicted_val_gnB = gnb_classifier.predict(testdata)\n",
    "    predicted_val_dtc = dtc_classifier.predict(testdata)\n",
    "    predicted_val_lda = lda_classifier.predict(testdata)\n",
    "    predicted_val_rfr = rfr_classifier.predict(testdata)\n",
    "    predicted_val_multi= multi_classifier.predict(testdata)\n",
    "    predicted_val_comp = comp_classifier.predict(testdata)\n",
    "    predicted_val_bern = bern_classifier.predict(testdata)\n",
    "    \n",
    "    return predicted_val_gnB, predicted_val_dtc, predicted_val_lda, predicted_val_rfr"
   ]
  },
  {
   "cell_type": "code",
   "execution_count": 9,
   "metadata": {},
   "outputs": [],
   "source": [
    "def evaluate(actual_class, predicted_class):\n",
    "    predicted_class_gnB = predicted_class[0]\n",
    "    predicted_class_dtc = predicted_class[1]\n",
    "    predicted_class_lda = predicted_class[2]\n",
    "    predicted_class_rfr = predicted_class[3]\n",
    "    \n",
    "    accuracy_gnB = accuracy_score(actual_class, predicted_class_gnB)\n",
    "    accuracy_dtc = accuracy_score(actual_class, predicted_class_dtc)\n",
    "    accuracy_lda = accuracy_score(actual_class, predicted_class_lda)\n",
    "    accuracy_rfr = accuracy_score(actual_class, predicted_class_rfr)\n",
    "    \n",
    "    print(\"The accuracy score of Gaussian Naive Bayes is :\",accuracy_gnB)\n",
    "    print(\"The accuracy score of Decision Tree Classifier is :\",accuracy_dtc)\n",
    "    print(\"The accuracy score of Linear Discriminant Analysis is :\",accuracy_lda)\n",
    "    print(\"The accuracy score of Random Forest Classifier is :\",accuracy_rfr)"
   ]
  },
  {
   "cell_type": "code",
   "execution_count": 34,
   "metadata": {},
   "outputs": [],
   "source": [
    "def DTS(data,target,names_of_features):\n",
    "    dt = DecisionTreeClassifier()\n",
    "\n",
    "    # Train model\n",
    "    dt.fit(data, target)\n",
    "    dotfile = open(\"dt.dot\", 'w')\n",
    "    print(names_of_features)\n",
    "    dot_data = tree.export_graphviz(dt,feature_names = names_of_features, class_names = [\"Yes\", \"No\"])\n",
    "    \n",
    "    graph = pydotplus.graph_from_dot_data(dot_data)\n",
    "    Image(graph.create_png())\n",
    "    \n",
    "    dotfile.close()"
   ]
  },
  {
   "cell_type": "code",
   "execution_count": 35,
   "metadata": {},
   "outputs": [
    {
     "name": "stdout",
     "output_type": "stream",
     "text": [
      "preprocessing data.....\n",
      "(843, 23)\n",
      "(211, 23)\n",
      "(843,)\n",
      "(211,)\n",
      "23\n"
     ]
    }
   ],
   "source": [
    "print(\"preprocessing data.....\")\n",
    "data = preprocess('../dataset/Toddler Autism dataset July 2018.csv',0.2)\n",
    "trainingX = data[0]\n",
    "testX =  data[1]\n",
    "trainingY = data[2]\n",
    "testY = data[3]\n",
    "feature_names = data[4]\n",
    "print(len(feature_names))\n"
   ]
  },
  {
   "cell_type": "code",
   "execution_count": 36,
   "metadata": {},
   "outputs": [
    {
     "name": "stdout",
     "output_type": "stream",
     "text": [
      "making DTS...\n",
      "['Case_No', 'A1', 'A2', 'A3', 'A4', 'A5', 'A6', 'A7', 'A8', 'A9', 'A10', 'Age_Mons', 'Sex_f', 'Sex_m', 'Jaundice_no', 'Jaundice_yes', 'Family_mem_with_ASD_no', 'Family_mem_with_ASD_yes', 'Who completed the test_Health Care Professional', 'Who completed the test_Health care professional', 'Who completed the test_Others', 'Who completed the test_Self', 'Who completed the test_family member']\n"
     ]
    }
   ],
   "source": [
    "print(\"making DTS...\")\n",
    "DecisonTree = DTS(trainingX,trainingY,feature_names)"
   ]
  },
  {
   "cell_type": "code",
   "execution_count": null,
   "metadata": {},
   "outputs": [],
   "source": [
    "print(\"Learning model.....\")\n",
    "model = learn_model(trainingX,trainingY)"
   ]
  },
  {
   "cell_type": "code",
   "execution_count": null,
   "metadata": {},
   "outputs": [],
   "source": [
    "print(\"Classifying test data......\")      \n",
    "predictedY = classify(model, testX)"
   ]
  },
  {
   "cell_type": "code",
   "execution_count": null,
   "metadata": {},
   "outputs": [],
   "source": [
    "print(\"Evaluating results.....\")\n",
    "evaluate(testY,predictedY)"
   ]
  },
  {
   "cell_type": "code",
   "execution_count": null,
   "metadata": {},
   "outputs": [],
   "source": []
  },
  {
   "cell_type": "code",
   "execution_count": null,
   "metadata": {},
   "outputs": [],
   "source": []
  }
 ],
 "metadata": {
  "kernelspec": {
   "display_name": "Python 3",
   "language": "python",
   "name": "python3"
  },
  "language_info": {
   "codemirror_mode": {
    "name": "ipython",
    "version": 3
   },
   "file_extension": ".py",
   "mimetype": "text/x-python",
   "name": "python",
   "nbconvert_exporter": "python",
   "pygments_lexer": "ipython3",
   "version": "3.7.4"
  }
 },
 "nbformat": 4,
 "nbformat_minor": 2
}
