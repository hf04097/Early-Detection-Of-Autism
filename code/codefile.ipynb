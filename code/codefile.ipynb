{
 "cells": [
  {
   "cell_type": "code",
   "execution_count": 3,
   "metadata": {},
   "outputs": [],
   "source": [
    "import pandas as pd\n",
    "import sklearn\n",
    "from sklearn import model_selection\n",
<<<<<<< HEAD
    "from IPython.display import Image  \n",
    "from sklearn import tree\n",
    "import pydotplus\n",
=======
    "\n",
>>>>>>> e4614b4e976fbf4ab338077327b0a58afb437ab5
    "from sklearn.naive_bayes import GaussianNB #gaussian naive Bayes classifier\n",
    "from sklearn.tree import DecisionTreeClassifier \n",
    "from sklearn.discriminant_analysis import LinearDiscriminantAnalysis\n",
    "from sklearn.ensemble import RandomForestClassifier\n",
    "from sklearn.naive_bayes import MultinomialNB\n",
    "from sklearn.naive_bayes import ComplementNB\n",
    "from sklearn.naive_bayes import BernoulliNB\n",
<<<<<<< HEAD
    "from sklearn.tree.export import export_text\n",
=======
    "\n",
    "from sklearn.neural_network import MLPClassifier\n",
    "\n",
    "from sklearn import tree\n",
>>>>>>> e4614b4e976fbf4ab338077327b0a58afb437ab5
    "\n",
    "from sklearn.metrics import accuracy_score #calculating accuracy"
   ]
  },
  {
   "cell_type": "code",
   "execution_count": 21,
   "metadata": {},
   "outputs": [],
   "source": [
    "def preprocess(file,size_of_test):\n",
    "    # read the csv\n",
    "    data = pd.read_table(file, sep=',', index_col=None)\n",
    "\n",
    "#     print('Shape of DataFrame: {}'.format(data.shape))\n",
    "    \n",
    "    \n",
    "    # drop unwanted columns\n",
    "    data = data.drop(['Qchat-10-Score','Ethnicity', 'Case_No'], axis=1)\n",
    "\n",
    "    # create X and Y datasets for training\n",
    "    x = data.drop(['Class/ASD Traits '],1)\n",
    "    y = data['Class/ASD Traits ']\n",
    "    \n",
    "    # convert the data to categorical values\n",
    "    X = pd.get_dummies(x)\n",
    "    Y = y\n",
<<<<<<< HEAD
    "    column_names = list(X.columns) \n",
=======
>>>>>>> e4614b4e976fbf4ab338077327b0a58afb437ab5
    "    \n",
    "    X_train, X_test, Y_train, Y_test = model_selection.train_test_split(X, Y, test_size=size_of_test)\n",
    "#     print(X_train.loc[:1])\n",
    "    print(X_train.shape)\n",
    "    print(X_test.shape)\n",
    "    print(Y_train.shape)\n",
    "    print(Y_test.shape)\n",
<<<<<<< HEAD
    "    return X_train, X_test, Y_train, Y_test, column_names"
=======
    "    return X_train, X_test, Y_train, Y_test"
>>>>>>> e4614b4e976fbf4ab338077327b0a58afb437ab5
   ]
  },
  {
   "cell_type": "code",
<<<<<<< HEAD
   "execution_count": 22,
=======
   "execution_count": 227,
>>>>>>> e4614b4e976fbf4ab338077327b0a58afb437ab5
   "metadata": {},
   "outputs": [],
   "source": [
    "def learn_model(data,target):\n",
    "    gNB = GaussianNB()\n",
    "    dtc = DecisionTreeClassifier()\n",
    "    lda = LinearDiscriminantAnalysis()\n",
    "    rfr = RandomForestClassifier(max_depth=50, n_estimators=150, max_features=1)\n",
    "    multi = MultinomialNB()\n",
    "    comp = ComplementNB()\n",
    "    bern = BernoulliNB()\n",
    "    \n",
    "    gnb_classifier = gNB.fit(data,target)\n",
    "    dtc_classifier = dtc.fit(data,target)\n",
    "    lda_classifier = lda.fit(data,target)\n",
    "    rfr_classifier = rfr.fit(data,target)\n",
    "    multi_classifier = multi.fit(data,target)\n",
    "    comp_classifier = comp.fit(data,target)\n",
    "    bern_classifier = bern.fit(data,target)\n",
<<<<<<< HEAD
    "    return gnb_classifier, dtc_classifier, lda_classifier, rfr_classifier,multi_classifier,comp_classifier,bern_classifier"
=======
    "    \n",
    "#     mlp = MLPClassifier(hidden_layer_sizes=(10, 10, 10), max_iter=1000)\n",
    "    mlp = MLPClassifier(solver='lbfgs', hidden_layer_sizes=(10,10,10),max_iter=1000)\n",
    "    MLP_classfier = mlp.fit(data, target.values.ravel())\n",
    "    return gnb_classifier, dtc_classifier, lda_classifier, rfr_classifier,multi_classifier,comp_classifier,bern_classifier, MLP_classfier"
>>>>>>> e4614b4e976fbf4ab338077327b0a58afb437ab5
   ]
  },
  {
   "cell_type": "code",
<<<<<<< HEAD
   "execution_count": 23,
=======
   "execution_count": 228,
>>>>>>> e4614b4e976fbf4ab338077327b0a58afb437ab5
   "metadata": {},
   "outputs": [],
   "source": [
    "def classify(classifier, testdata):\n",
    "    gnb_classifier = classifier[0]\n",
    "    dtc_classifier = classifier[1]\n",
    "    lda_classifier = classifier[2]\n",
    "    rfr_classifier = classifier[3]\n",
    "    multi_classifier = classifier[4]\n",
    "    comp_classifier = classifier[5]\n",
    "    bern_classifier = classifier[6]\n",
<<<<<<< HEAD
=======
    "    MLP_classfier = classifier[7]\n",
>>>>>>> e4614b4e976fbf4ab338077327b0a58afb437ab5
    "    \n",
    "    predicted_val_gnB = gnb_classifier.predict(testdata)\n",
    "    predicted_val_dtc = dtc_classifier.predict(testdata)\n",
    "    predicted_val_lda = lda_classifier.predict(testdata)\n",
    "    predicted_val_rfr = rfr_classifier.predict(testdata)\n",
    "    predicted_val_multi= multi_classifier.predict(testdata)\n",
    "    predicted_val_comp = comp_classifier.predict(testdata)\n",
    "    predicted_val_bern = bern_classifier.predict(testdata)\n",
<<<<<<< HEAD
    "    \n",
    "    return predicted_val_gnB, predicted_val_dtc, predicted_val_lda, predicted_val_rfr"
=======
    "    predicted_val_MLP = MLP_classfier.predict(testdata)\n",
    "    \n",
    "    return (predicted_val_gnB, predicted_val_dtc, predicted_val_lda,predicted_val_rfr, \n",
    "            predicted_val_multi,predicted_val_comp,predicted_val_bern,predicted_val_MLP)"
>>>>>>> e4614b4e976fbf4ab338077327b0a58afb437ab5
   ]
  },
  {
   "cell_type": "code",
<<<<<<< HEAD
   "execution_count": 24,
=======
   "execution_count": 229,
>>>>>>> e4614b4e976fbf4ab338077327b0a58afb437ab5
   "metadata": {},
   "outputs": [],
   "source": [
    "def evaluate(actual_class, predicted_class):\n",
    "    predicted_class_gnB = predicted_class[0]\n",
    "    predicted_class_dtc = predicted_class[1]\n",
    "    predicted_class_lda = predicted_class[2]\n",
    "    predicted_class_rfr = predicted_class[3]\n",
<<<<<<< HEAD
=======
    "    predicted_class_multi = predicted_class[4]\n",
    "    predicted_class_comp = predicted_class[5]\n",
    "    predicted_class_bern = predicted_class[6]\n",
    "    predicted_class_MLP = predicted_class[7]\n",
>>>>>>> e4614b4e976fbf4ab338077327b0a58afb437ab5
    "    \n",
    "    accuracy_gnB = accuracy_score(actual_class, predicted_class_gnB)\n",
    "    accuracy_dtc = accuracy_score(actual_class, predicted_class_dtc)\n",
    "    accuracy_lda = accuracy_score(actual_class, predicted_class_lda)\n",
    "    accuracy_rfr = accuracy_score(actual_class, predicted_class_rfr)\n",
<<<<<<< HEAD
=======
    "    accuracy_multi = accuracy_score(actual_class, predicted_class_multi)\n",
    "    accuracy_comp = accuracy_score(actual_class, predicted_class_comp)\n",
    "    accuracy_bern = accuracy_score(actual_class, predicted_class_bern)\n",
    "    accuracy_MLP = accuracy_score(actual_class, predicted_class_MLP)\n",
>>>>>>> e4614b4e976fbf4ab338077327b0a58afb437ab5
    "    \n",
    "    print(\"The accuracy score of Gaussian Naive Bayes is :\",accuracy_gnB)\n",
    "    print(\"The accuracy score of Decision Tree Classifier is :\",accuracy_dtc)\n",
    "    print(\"The accuracy score of Linear Discriminant Analysis is :\",accuracy_lda)\n",
<<<<<<< HEAD
    "    print(\"The accuracy score of Random Forest Classifier is :\",accuracy_rfr)"
=======
    "    print(\"The accuracy score of Random Forest Classifier is :\",accuracy_rfr)\n",
    "    print(\"The accuracy score of Multinomial Naive Bayes is :\",accuracy_multi)\n",
    "    print(\"The accuracy score of Complement Naive Bayes is :\",accuracy_comp)\n",
    "    print(\"The accuracy score of Bernoulli Naive Bayes is :\",accuracy_bern)\n",
    "    print(\"The accuracy score of ANN MLP is :\",accuracy_MLP)"
>>>>>>> e4614b4e976fbf4ab338077327b0a58afb437ab5
   ]
  },
  {
   "cell_type": "code",
<<<<<<< HEAD
   "execution_count": 25,
   "metadata": {},
   "outputs": [],
   "source": [
    "def DTS(data,target,names_of_features):\n",
    "    dt = DecisionTreeClassifier(max_depth = 5)\n",
    "\n",
    "    # Train model\n",
    "    d_tree= dt.fit(data, target)\n",
    "    dot_data = tree.export_graphviz(dt,feature_names = names_of_features, class_names = [\"No\", \"Yes\"])\n",
    "    graph = pydotplus.graph_from_dot_data(dot_data)\n",
    "    Image(graph.create_png())\n",
    "    graph.write_png(\"dtree.png\")\n",
    "    \n",
    "    \n",
    "    r = export_text(d_tree, feature_names=names_of_features)\n",
    "    \n",
    "    f = open(\"dts_rules.txt\", \"w\")\n",
    "    f.write(r)\n",
    "    f.close()"
   ]
  },
  {
   "cell_type": "code",
   "execution_count": 26,
   "metadata": {},
   "outputs": [
    {
     "name": "stdout",
     "output_type": "stream",
     "text": [
      "preprocessing data.....\n",
      "(843, 22)\n",
      "(211, 22)\n",
      "(843,)\n",
      "(211,)\n",
      "22\n"
     ]
    }
   ],
   "source": [
=======
   "execution_count": null,
   "metadata": {},
   "outputs": [],
   "source": [
>>>>>>> e4614b4e976fbf4ab338077327b0a58afb437ab5
    "print(\"preprocessing data.....\")\n",
    "data = preprocess('../dataset/Toddler Autism dataset July 2018.csv',0.2)\n",
    "trainingX = data[0]\n",
    "testX =  data[1]\n",
    "trainingY = data[2]\n",
<<<<<<< HEAD
    "testY = data[3]\n",
    "feature_names = data[4]\n",
    "print(len(feature_names))\n"
   ]
  },
  {
   "cell_type": "code",
   "execution_count": 27,
   "metadata": {},
   "outputs": [
    {
     "name": "stdout",
     "output_type": "stream",
     "text": [
      "making DTS...\n"
     ]
    }
   ],
   "source": [
    "print(\"making DTS...\")\n",
    "DecisonTree = DTS(trainingX,trainingY,feature_names)"
=======
    "testY = data[3]"
>>>>>>> e4614b4e976fbf4ab338077327b0a58afb437ab5
   ]
  },
  {
   "cell_type": "code",
<<<<<<< HEAD
   "execution_count": 11,
=======
   "execution_count": 231,
>>>>>>> e4614b4e976fbf4ab338077327b0a58afb437ab5
   "metadata": {},
   "outputs": [
    {
     "name": "stdout",
     "output_type": "stream",
     "text": [
      "Learning model.....\n"
     ]
    },
    {
     "name": "stderr",
     "output_type": "stream",
     "text": [
<<<<<<< HEAD
      "C:\\ProgramData\\Anaconda3\\lib\\site-packages\\sklearn\\discriminant_analysis.py:388: UserWarning: Variables are collinear.\n",
=======
      "C:\\Users\\Huda\\Anaconda3\\lib\\site-packages\\sklearn\\discriminant_analysis.py:388: UserWarning: Variables are collinear.\n",
>>>>>>> e4614b4e976fbf4ab338077327b0a58afb437ab5
      "  warnings.warn(\"Variables are collinear.\")\n"
     ]
    }
   ],
   "source": [
    "print(\"Learning model.....\")\n",
    "model = learn_model(trainingX,trainingY)"
   ]
  },
  {
   "cell_type": "code",
<<<<<<< HEAD
   "execution_count": 12,
=======
   "execution_count": 232,
>>>>>>> e4614b4e976fbf4ab338077327b0a58afb437ab5
   "metadata": {},
   "outputs": [
    {
     "name": "stdout",
     "output_type": "stream",
     "text": [
      "Classifying test data......\n"
     ]
    }
   ],
   "source": [
    "print(\"Classifying test data......\")      \n",
    "predictedY = classify(model, testX)"
   ]
  },
  {
   "cell_type": "code",
<<<<<<< HEAD
   "execution_count": 13,
=======
   "execution_count": 233,
>>>>>>> e4614b4e976fbf4ab338077327b0a58afb437ab5
   "metadata": {},
   "outputs": [
    {
     "name": "stdout",
     "output_type": "stream",
     "text": [
      "Evaluating results.....\n",
<<<<<<< HEAD
      "The accuracy score of Gaussian Naive Bayes is : 0.9383886255924171\n",
      "The accuracy score of Decision Tree Classifier is : 0.933649289099526\n",
      "The accuracy score of Linear Discriminant Analysis is : 0.985781990521327\n",
      "The accuracy score of Random Forest Classifier is : 0.9620853080568721\n"
=======
      "The accuracy score of Gaussian Naive Bayes is : 0.95260663507109\n",
      "The accuracy score of Decision Tree Classifier is : 0.919431279620853\n",
      "The accuracy score of Linear Discriminant Analysis is : 0.966824644549763\n",
      "The accuracy score of Random Forest Classifier is : 0.9478672985781991\n",
      "The accuracy score of Multinomial Naive Bayes is : 0.909952606635071\n",
      "The accuracy score of Complement Naive Bayes is : 0.9004739336492891\n",
      "The accuracy score of Bernoulli Naive Bayes is : 0.966824644549763\n",
      "The accuracy score of ANN MLP is : 0.2985781990521327\n"
>>>>>>> e4614b4e976fbf4ab338077327b0a58afb437ab5
     ]
    }
   ],
   "source": [
    "print(\"Evaluating results.....\")\n",
    "evaluate(testY,predictedY)"
   ]
  },
  {
   "cell_type": "code",
   "execution_count": null,
   "metadata": {},
   "outputs": [],
   "source": []
  },
  {
   "cell_type": "code",
   "execution_count": null,
   "metadata": {},
   "outputs": [],
   "source": []
  }
 ],
 "metadata": {
  "kernelspec": {
   "display_name": "Python 3",
   "language": "python",
   "name": "python3"
  },
  "language_info": {
   "codemirror_mode": {
    "name": "ipython",
    "version": 3
   },
   "file_extension": ".py",
   "mimetype": "text/x-python",
   "name": "python",
   "nbconvert_exporter": "python",
   "pygments_lexer": "ipython3",
   "version": "3.7.4"
  }
 },
 "nbformat": 4,
 "nbformat_minor": 2
}
